{
 "cells": [
  {
   "cell_type": "code",
   "execution_count": 3,
   "metadata": {
    "collapsed": true
   },
   "outputs": [],
   "source": [
    "import numpy as np\n",
    "import pandas as pd\n",
    "import pandas.io.sql as pdsql\n",
    "import pickle\n",
    "\n",
    "import psycopg2\n",
    "\n",
    "from scipy.linalg import eigh\n",
    "from scipy.spatial.distance import pdist, squareform\n",
    "from sklearn.cluster import KMeans\n",
    "\n",
    "from shapely.wkt import loads as wkt_loads\n",
    "from mpl_toolkits.basemap import Basemap\n",
    "\n",
    "import matplotlib as mpl\n",
    "import matplotlib.pyplot as plt\n",
    "from matplotlib.collections import LineCollection\n",
    "\n",
    "%matplotlib qt\n",
    "axis_font = {'size':'16'}\n",
    "mpl.rcParams['xtick.labelsize'] = 16\n",
    "mpl.rcParams['ytick.labelsize'] = 16"
   ]
  },
  {
   "cell_type": "code",
   "execution_count": 1,
   "metadata": {
    "collapsed": false
   },
   "outputs": [
    {
     "ename": "NameError",
     "evalue": "name 'conn' is not defined",
     "output_type": "error",
     "traceback": [
      "\u001b[1;31m---------------------------------------------------------------------------\u001b[0m",
      "\u001b[1;31mNameError\u001b[0m                                 Traceback (most recent call last)",
      "\u001b[1;32m<ipython-input-1-002d50cfac03>\u001b[0m in \u001b[0;36m<module>\u001b[1;34m()\u001b[0m\n\u001b[1;32m----> 1\u001b[1;33m \u001b[0mconn\u001b[0m\u001b[1;33m.\u001b[0m\u001b[0mclose\u001b[0m\u001b[1;33m(\u001b[0m\u001b[1;33m)\u001b[0m\u001b[1;33m\u001b[0m\u001b[0m\n\u001b[0m",
      "\u001b[1;31mNameError\u001b[0m: name 'conn' is not defined"
     ]
    }
   ],
   "source": [
    "conn.close()"
   ]
  },
  {
   "cell_type": "code",
   "execution_count": 4,
   "metadata": {
    "collapsed": false
   },
   "outputs": [],
   "source": [
    "conn = psycopg2.connect(\"dbname='nyc_taxi' user='postgres' host='localhost' password='organon'\")\n",
    "# Read the pickup_count table and the day_info table\n",
    "cdf = pdsql.read_sql(\"SELECT * FROM count_by_hour\", conn, params=None)\n",
    "conn.close()"
   ]
  },
  {
   "cell_type": "code",
   "execution_count": 5,
   "metadata": {
    "collapsed": false
   },
   "outputs": [],
   "source": [
    "# cdf['pickup_gid'] = cdf['pickup_gid'].astype(int)\n",
    "#cdf['pickup_hour'] = cdf['pickup_hour'].astype(int)\n",
    "idx_nan_pickup = np.where(pd.isnull(cdf['pickup_gid']).values)[0].tolist()\n",
    "idx_nan_dropoff = np.where(pd.isnull(cdf['dropoff_gid']).values)[0].tolist()"
   ]
  },
  {
   "cell_type": "code",
   "execution_count": 6,
   "metadata": {
    "collapsed": false
   },
   "outputs": [],
   "source": [
    "row = 0\n",
    "for row in range(len(cdf.index)):\n",
    "    if row in idx_nan_pickup:\n",
    "        cdf.set_value(row, 'pickup_gid', cdf['dropoff_gid'][row])\n",
    "        cdf.set_value(row, 'pickup_hour', cdf['dropoff_hour'][row])\n",
    "        cdf.set_value(row, 'count_mean_pickup', 0.0)   "
   ]
  },
  {
   "cell_type": "code",
   "execution_count": 7,
   "metadata": {
    "collapsed": true
   },
   "outputs": [],
   "source": [
    "cdf['pickup_gid'] = cdf['pickup_gid'].astype(int)\n",
    "cdf['pickup_hour'] = cdf['pickup_hour'].astype(int)"
   ]
  },
  {
   "cell_type": "code",
   "execution_count": 8,
   "metadata": {
    "collapsed": false
   },
   "outputs": [],
   "source": [
    "X = np.zeros((195, 48), dtype='float64')\n",
    "\n",
    "# Add the rows where count is 0\n",
    "gid_append = []\n",
    "hour_append = []\n",
    "\n",
    "row = 0\n",
    "for gid in range(1, 196):\n",
    "    for hour in range(24):\n",
    "        if row < len(cdf.index) and\\\n",
    "        cdf.pickup_gid[row] == gid and\\\n",
    "        cdf.pickup_hour[row] == hour:\n",
    "            X[gid-1][hour] = cdf.count_mean_pickup[row]\n",
    "            X[gid-1][hour+24] = cdf.count_mean_dropoff[row]\n",
    "            row += 1\n",
    "        else:\n",
    "            X[gid-1][hour] = 0.0\n",
    "            X[gid-1][hour+24] = 0.0"
   ]
  },
  {
   "cell_type": "code",
   "execution_count": 62,
   "metadata": {
    "collapsed": false
   },
   "outputs": [],
   "source": [
    "Y = np.dot(np.diag(1 / np.sum(X, axis=1)), X)"
   ]
  },
  {
   "cell_type": "code",
   "execution_count": 86,
   "metadata": {
    "collapsed": false
   },
   "outputs": [],
   "source": [
    "# Spectral clustering to cluster the hourly pickup-dropoff patterns for all 195 NTAs\n",
    "f = 100 # The factor used to set epsilon according to the median of the square pairwise Euclidean distance\n",
    "\n",
    "distance = pdist(X, 'euclidean');\n",
    "distance = pdist(X[:, 0:24]-X[:, 24:48], 'euclidean');\n",
    "epsilon = np.median(distance ** 2) / f;\n",
    "W = np.exp(-squareform(distance) ** 2 / epsilon)"
   ]
  },
  {
   "cell_type": "code",
   "execution_count": 87,
   "metadata": {
    "collapsed": false
   },
   "outputs": [
    {
     "data": {
      "text/plain": [
       "<matplotlib.text.Text at 0x7ff3be3ff4e0>"
      ]
     },
     "execution_count": 87,
     "metadata": {},
     "output_type": "execute_result"
    }
   ],
   "source": [
    "# Spectral clustering\n",
    "K = 4\n",
    "L = np.diag(sum(W)) - W\n",
    "_, V_spec = eigh(L)\n",
    "v = V_spec[:, 1:2] # The reduced dimension data, simply the second smallest eigen vector of L\n",
    "label = KMeans(n_clusters=K, random_state=8).fit_predict(v)\n",
    "\n",
    "fig, ax = plt.subplots(figsize=(7, 6))\n",
    "\n",
    "c = ['b', 'g', 'r', 'purple', 'yellow', 'magenta', 'cyan', 'black', 'white']\n",
    "for k in range(K):\n",
    "    ax.hist(v[label==k, 0], 20, facecolor=c[k], alpha=1, label='cluster {0}'.format(k))\n",
    "ax.legend(loc=1, fontsize=16)\n",
    "ax.set_xlabel('$v$', **axis_font)\n",
    "ax.set_ylabel('count', **axis_font)"
   ]
  },
  {
   "cell_type": "code",
   "execution_count": 67,
   "metadata": {
    "collapsed": false
   },
   "outputs": [
    {
     "data": {
      "text/plain": [
       "array([0, 0, 0, 0, 0, 0, 0, 0, 0, 0, 0, 0, 0, 0, 0, 0, 0, 0, 0, 0, 0, 0, 0,\n",
       "       0, 0, 0, 0, 0, 0, 1, 0, 0, 0, 0, 0, 0, 0, 0, 0, 0, 0, 0, 0, 0, 0, 0,\n",
       "       0, 0, 0, 0, 0, 0, 0, 0, 0, 0, 0, 0, 0, 0, 0, 0, 0, 0, 0, 0, 0, 0, 0,\n",
       "       0, 0, 0, 0, 0, 0, 0, 0, 0, 0, 0, 0, 0, 0, 0, 0, 0, 0, 0, 0, 0, 0, 0,\n",
       "       0, 0, 0, 0, 0, 0, 0, 0, 0, 0, 0, 0, 0, 0, 0, 0, 0, 0, 0, 0, 0, 0, 0,\n",
       "       0, 0, 0, 0, 0, 0, 0, 0, 0, 0, 0, 0, 0, 0, 1, 0, 0, 0, 0, 0, 0, 0, 0,\n",
       "       0, 0, 0, 0, 0, 0, 0, 0, 0, 0, 0, 0, 0, 0, 0, 0, 0, 0, 0, 0, 0, 0, 0,\n",
       "       0, 0, 0, 0, 0, 0, 0, 0, 0, 0, 0, 0, 0, 0, 0, 0, 0, 0, 0, 0, 0, 0, 0,\n",
       "       0, 0, 0, 0, 0, 0, 0, 0, 0, 0, 0], dtype=int32)"
      ]
     },
     "execution_count": 67,
     "metadata": {},
     "output_type": "execute_result"
    }
   ],
   "source": [
    "label"
   ]
  },
  {
   "cell_type": "code",
   "execution_count": 51,
   "metadata": {
    "collapsed": false
   },
   "outputs": [],
   "source": [
    "n_nta = 195\n",
    "nta_color = ['grey',] * 195 # The color of each census tract\n",
    "for gid in range(1, 196):\n",
    "    nta_color[gid-1] = c[label[gid-1]]"
   ]
  },
  {
   "cell_type": "code",
   "execution_count": 52,
   "metadata": {
    "collapsed": false
   },
   "outputs": [],
   "source": [
    "conn = psycopg2.connect(\"dbname='nyc_taxi' user='postgres' host='localhost' password='organon'\")\n",
    "cur = conn.cursor()\n",
    "\n",
    "tol = 1e-4 # Tolerance on fetching the census tract boundary\n",
    "cur.execute(\"\"\"SELECT gid, ST_AsText(ST_SIMPLIFY(geom, {0})) FROM nta;\"\"\".format(tol))\n",
    "vals = cur.fetchall()\n",
    "cur.close()"
   ]
  },
  {
   "cell_type": "code",
   "execution_count": 53,
   "metadata": {
    "collapsed": true
   },
   "outputs": [],
   "source": [
    "def create_vectors_multipolygon(m, multipolygon):\n",
    "    'Create the vectors for MultiPolygons'\n",
    "    vectors = []\n",
    "    for polygon in multipolygon:\n",
    "        seg = []\n",
    "        for coord in list(polygon.exterior.coords):\n",
    "            seg.append(m(coord[0], coord[1]))\n",
    "            vectors.append(np.asarray(seg))\n",
    "    return vectors"
   ]
  },
  {
   "cell_type": "code",
   "execution_count": 54,
   "metadata": {
    "collapsed": false
   },
   "outputs": [
    {
     "data": {
      "text/plain": [
       "<matplotlib.collections.LineCollection at 0x7ff3c1fa3c88>"
      ]
     },
     "execution_count": 54,
     "metadata": {},
     "output_type": "execute_result"
    }
   ],
   "source": [
    "west, south, east, north = -74.15, 40.50, -73.65, 40.95\n",
    "m = Basemap(llcrnrlon=west, llcrnrlat=south, urcrnrlon=east, urcrnrlat=north,\n",
    "             resolution='f', projection='merc', lat_0=(south+north)/2, lon_0=(west+east)/2)\n",
    "fig = plt.figure(figsize=(30,30))\n",
    "ax = fig.add_subplot(111)\n",
    "\n",
    "m.drawmapboundary(fill_color='aqua')\n",
    "m.fillcontinents(color='grey',lake_color='aqua',zorder=0)\n",
    "m.drawcoastlines()\n",
    "m.drawrivers()"
   ]
  },
  {
   "cell_type": "code",
   "execution_count": 55,
   "metadata": {
    "collapsed": true
   },
   "outputs": [],
   "source": [
    "for val in vals:\n",
    "    vectors = create_vectors_multipolygon(m, wkt_loads(val[1]))\n",
    "    lines = LineCollection(vectors, antialiaseds=(1, ))\n",
    "    lines.set_facecolors(nta_color[val[0]-1])\n",
    "    lines.set_edgecolors('black')\n",
    "    lines.set_linewidth(0.5)\n",
    "    ax.add_collection(lines)"
   ]
  }
 ],
 "metadata": {
  "kernelspec": {
   "display_name": "Python 3",
   "language": "python",
   "name": "python3"
  },
  "language_info": {
   "codemirror_mode": {
    "name": "ipython",
    "version": 3
   },
   "file_extension": ".py",
   "mimetype": "text/x-python",
   "name": "python",
   "nbconvert_exporter": "python",
   "pygments_lexer": "ipython3",
   "version": "3.5.1"
  }
 },
 "nbformat": 4,
 "nbformat_minor": 0
}
