{
 "cells": [
  {
   "cell_type": "code",
   "execution_count": 1,
   "metadata": {
    "collapsed": true
   },
   "outputs": [],
   "source": [
    "import numpy as np\n",
    "import pandas as pd\n",
    "import pandas.io.sql as pdsql\n",
    "import pickle\n",
    "import sys\n",
    "from IPython.display import clear_output\n",
    "\n",
    "import psycopg2"
   ]
  },
  {
   "cell_type": "code",
   "execution_count": 2,
   "metadata": {
    "collapsed": false
   },
   "outputs": [],
   "source": [
    "# Read the dropoff_count table and the day_info table\n",
    "conn = psycopg2.connect(\"dbname='nyc_taxi' user='postgres' host='localhost' password='organon'\")\n",
    "#cdf = pdsql.read_sql(\"SELECT * FROM dropoff_count_ct_yellow\", conn, coerce_float=True, params=None)\n",
    "cdf = pdsql.read_sql(\"SELECT * FROM dropoff_count_ct_green\", conn, coerce_float=True, params=None)\n",
    "day_info = pdsql.read_sql(\"SELECT * FROM day_info\", conn, coerce_float=True, params=None)\n",
    "conn.close()"
   ]
  },
  {
   "cell_type": "code",
   "execution_count": 3,
   "metadata": {
    "collapsed": false
   },
   "outputs": [
    {
     "name": "stdout",
     "output_type": "stream",
     "text": [
      "gid = 2166 completed\n"
     ]
    }
   ],
   "source": [
    "# Add the rows where count is 0\n",
    "gid_append = []\n",
    "doy_append = []\n",
    "hour_append = []\n",
    "\n",
    "row = 0\n",
    "for gid in range(1, 2167): # 195 for NTA, 2166 for CT\n",
    "    for doy in range(1, 366):\n",
    "        for hour in range(24):\n",
    "            if row < len(cdf.index) and\\\n",
    "            cdf.dropoff_gid[row] == gid and\\\n",
    "            cdf.dropoff_doy[row] == doy and\\\n",
    "            cdf.dropoff_hour[row] == hour:\n",
    "                row += 1\n",
    "            else:\n",
    "                gid_append.append(gid)\n",
    "                doy_append.append(doy)\n",
    "                hour_append.append(hour)\n",
    "                \n",
    "    clear_output()\n",
    "    print(\"gid = {0} completed\".format(gid))\n",
    "    sys.stdout.flush()\n",
    "        \n",
    "cdf_append = pd.DataFrame({'dropoff_gid': gid_append, 'dropoff_doy': doy_append, 'dropoff_hour': hour_append},\n",
    "                          columns=['dropoff_gid', 'dropoff_doy', 'dropoff_hour'])\n",
    "cdf_append['count'] = pd.Series([0] * len(gid_append))\n",
    "cdf = cdf.append(cdf_append, ignore_index=True)\n",
    "cdf = cdf.sort_values(by=['dropoff_gid', 'dropoff_doy', 'dropoff_hour'])\n",
    "cdf.index = range(len(cdf))"
   ]
  },
  {
   "cell_type": "code",
   "execution_count": 4,
   "metadata": {
    "collapsed": true
   },
   "outputs": [],
   "source": [
    "# Add new columns, namely day of the week and the temperature, precipitation, holiday info\n",
    "dropoff_dow = (cdf['dropoff_doy'] + 2) % 7 # For 2014, Jan. 1 is Wednesday\n",
    "cdf['dropoff_dow'] = dropoff_dow\n",
    "\n",
    "for col_name in {'temperature', 'precipitation', 'holiday'}:\n",
    "    col = day_info[col_name][cdf['dropoff_doy'] - 1]\n",
    "    col.index = range(len(col))\n",
    "    cdf[col_name] = col\n",
    "\n",
    "# Raw dataframe extracted from the original dataset ready for further process\n",
    "cdf_raw = cdf[['dropoff_doy', 'count', 'dropoff_gid', 'dropoff_dow', 'dropoff_hour', 'temperature', 'precipitation', 'holiday']]"
   ]
  },
  {
   "cell_type": "code",
   "execution_count": 5,
   "metadata": {
    "collapsed": true
   },
   "outputs": [],
   "source": [
    "#cdf_raw.to_pickle('./intermediate_files/dataframes_visualize_ct/data_raw_dropoff_ct_yellow.p')\n",
    "cdf_raw.to_pickle('./intermediate_files/dataframes_visualize_ct/data_raw_dropoff_ct_green.p')"
   ]
  }
 ],
 "metadata": {
  "kernelspec": {
   "display_name": "Python 3",
   "language": "python",
   "name": "python3"
  },
  "language_info": {
   "codemirror_mode": {
    "name": "ipython",
    "version": 3
   },
   "file_extension": ".py",
   "mimetype": "text/x-python",
   "name": "python",
   "nbconvert_exporter": "python",
   "pygments_lexer": "ipython3",
   "version": "3.5.1"
  }
 },
 "nbformat": 4,
 "nbformat_minor": 0
}
