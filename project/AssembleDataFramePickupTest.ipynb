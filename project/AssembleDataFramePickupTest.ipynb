{
 "cells": [
  {
   "cell_type": "code",
   "execution_count": null,
   "metadata": {
    "collapsed": true
   },
   "outputs": [],
   "source": [
    "import numpy as np\n",
    "import pandas as pd\n",
    "import pickle"
   ]
  },
  {
   "cell_type": "code",
   "execution_count": null,
   "metadata": {
    "collapsed": true
   },
   "outputs": [],
   "source": [
    "df = pickle.load(open(\"./intermediate_files/dataframes_train/data.p\", \"rb\"))"
   ]
  },
  {
   "cell_type": "code",
   "execution_count": null,
   "metadata": {
    "collapsed": false
   },
   "outputs": [],
   "source": [
    "column_names = df.columns.tolist()\n",
    "columns = {name: list() for name in column_names}\n",
    "doy = 20 # DOY must be larger than 1, (20, 100, 313)\n",
    "\n",
    "for gid in range(195):\n",
    "    for name in column_names:\n",
    "        columns[name].extend(list(df[name].values[gid*8759+23+(doy-2)*24 : gid*8759+23+(doy-1)*24]))\n",
    "        \n",
    "df_excerpt = pd.DataFrame(columns)\n",
    "df_excerpt = df_excerpt[column_names]"
   ]
  },
  {
   "cell_type": "code",
   "execution_count": null,
   "metadata": {
    "collapsed": false
   },
   "outputs": [],
   "source": [
    "df_excerpt.to_pickle('./intermediate_files/dataframes_test/data_excerpt_{0}.p'.format(doy))"
   ]
  },
  {
   "cell_type": "code",
   "execution_count": null,
   "metadata": {
    "collapsed": false
   },
   "outputs": [],
   "source": [
    "idx = np.full(195 * 8759, True, dtype=bool)\n",
    "doys = [20, 100, 313]\n",
    "for gid in range(195):\n",
    "    for doy in doys:\n",
    "        idx[gid*8759+23+(doy-2)*24 : gid*8759+23+(doy-1)*24] = False\n",
    "        \n",
    "columns_leaveout = {name: df[name].values[idx] for name in column_names}\n",
    "df_leaveout = pd.DataFrame(columns_leaveout)\n",
    "df_leaveout = df_leaveout[column_names]\n",
    "df_leaveout.to_pickle('./intermediate_files/dataframes_test/data_leaveout.p')"
   ]
  }
 ],
 "metadata": {
  "kernelspec": {
   "display_name": "Python 3",
   "language": "python",
   "name": "python3"
  },
  "language_info": {
   "codemirror_mode": {
    "name": "ipython",
    "version": 3
   },
   "file_extension": ".py",
   "mimetype": "text/x-python",
   "name": "python",
   "nbconvert_exporter": "python",
   "pygments_lexer": "ipython3",
   "version": "3.5.1"
  }
 },
 "nbformat": 4,
 "nbformat_minor": 0
}
