{
 "cells": [
  {
   "cell_type": "code",
   "execution_count": 1,
   "metadata": {
    "collapsed": true
   },
   "outputs": [],
   "source": [
    "import numpy as np\n",
    "import pandas as pd\n",
    "import pickle\n",
    "import pandas.io.sql as pdsql\n",
    "import psycopg2\n",
    "import timeit\n",
    "import sys\n",
    "from IPython.display import clear_output\n",
    "\n",
    "from mpl_toolkits.basemap import Basemap\n",
    "\n",
    "import matplotlib as mpl\n",
    "import pylab as pl\n",
    "import matplotlib.pyplot as plt\n",
    "from matplotlib.patches import Polygon\n",
    "from matplotlib.collections import LineCollection, PatchCollection\n",
    "\n",
    "import imageio\n",
    "\n",
    "#%matplotlib inline\n",
    "axis_font = {'size':'30'}\n",
    "mpl.rcParams['xtick.labelsize'] = 30\n",
    "mpl.rcParams['ytick.labelsize'] = 30"
   ]
  },
  {
   "cell_type": "code",
   "execution_count": 3,
   "metadata": {
    "collapsed": false
   },
   "outputs": [],
   "source": [
    "df = pickle.load(open(\"./intermediate_files/dataframes_visualize_ct/data_raw_ct.p\", \"rb\"))\n",
    "#df = pickle.load(open(\"./intermediate_files/dataframes_visualize_ct/data_raw_ct_yellow.p\", \"rb\"))\n",
    "#df = pickle.load(open(\"./intermediate_files/dataframes_visualize_ct/data_raw_ct_green.p\", \"rb\"))\n",
    "\n",
    "conn = psycopg2.connect(\"dbname='nyc_taxi' user='postgres' host='localhost' password='organon'\")\n",
    "ct = pdsql.read_sql(\"SELECT gid, boro_name, shape_area, boro_ct201 FROM ct\", conn, coerce_float=True, params=None)\n",
    "conn.close()"
   ]
  },
  {
   "cell_type": "code",
   "execution_count": 4,
   "metadata": {
    "collapsed": true
   },
   "outputs": [],
   "source": [
    "# The index of the census tracks are boro_ct201 and gid\n",
    "ct2gid = {ct.boro_ct201[i]: ct.gid[i] for i in range(len(ct.gid))}"
   ]
  },
  {
   "cell_type": "code",
   "execution_count": 5,
   "metadata": {
    "collapsed": false
   },
   "outputs": [
    {
     "name": "stdout",
     "output_type": "stream",
     "text": [
      "gid 2166 computed\n"
     ]
    }
   ],
   "source": [
    "# The hourly pickup per square mile for each CT averaged over 365 days of 2014\n",
    "sqft2sqmi=3.58701e-8\n",
    "density_hourly = np.empty((2166, 24), dtype='float64')\n",
    "for gid in range(1, 2167):\n",
    "    density_hourly[gid-1, :] = np.array([np.mean(df['count'][(df.pickup_hour==h) & (df.pickup_gid==gid)]) for h in range(24)])\\\n",
    "                            / ct.shape_area[ct.gid==gid].values[0] / sqft2sqmi\n",
    "    \n",
    "    #process.stdout\n",
    "    clear_output()\n",
    "    print(\"gid {0} computed\".format(gid))\n",
    "    sys.stdout.flush()"
   ]
  },
  {
   "cell_type": "code",
   "execution_count": 6,
   "metadata": {
    "collapsed": false,
    "scrolled": false
   },
   "outputs": [
    {
     "name": "stderr",
     "output_type": "stream",
     "text": [
      "/home/wenhaowu/anaconda3/lib/python3.5/site-packages/matplotlib/pyplot.py:516: RuntimeWarning: More than 20 figures have been opened. Figures created through the pyplot interface (`matplotlib.pyplot.figure`) are retained until explicitly closed and may consume too much memory. (To control this warning, see the rcParam `figure.max_open_warning`).\n",
      "  max_open_warning, RuntimeWarning)\n"
     ]
    }
   ],
   "source": [
    "# Plot the 24-hour density map\n",
    "density_hourly_max = np.max(density_hourly)\n",
    "west, south, east, north = -74.15, 40.50, -73.65, 40.95\n",
    "\n",
    "for hour in range(24):\n",
    "    m = Basemap(llcrnrlon=west, llcrnrlat=south, urcrnrlon=east, urcrnrlat=north,\n",
    "             resolution='i', projection='merc', lat_0=(south+north)/2, lon_0=(west+east)/2)\n",
    "    fig = plt.figure(figsize=(30,30))\n",
    "    ax = fig.add_subplot(111)\n",
    "    ax.set_title('h={0}'.format(hour), fontsize=35)\n",
    "\n",
    "    m.readshapefile('./datasets/ct_2010/geo_export_670644cc-4c81-49e9-9d6d-fb574f649fff', 'nyc', linewidth=1, zorder=1)\n",
    "\n",
    "    patches = []\n",
    "    cm = mpl.cm.jet\n",
    "    for info, shape in zip(m.nyc_info, m.nyc):\n",
    "        patches.append(Polygon(np.array(shape), True,\n",
    "                               facecolor=cm(density_hourly[ct2gid[info['boro_ct201']]-1, hour] / density_hourly_max)))\n",
    "    \n",
    "    p = PatchCollection(patches, match_original=True, alpha=0.6, linewidths=1., zorder=2)\n",
    "\n",
    "    ax.add_collection(p)\n",
    "\n",
    "    fig.subplots_adjust(right=0.8)\n",
    "    cbar_ax = fig.add_axes([0.85, 0.12, 0.02, 0.78])\n",
    "    a = np.array([[0.0,1.0]])\n",
    "\n",
    "    pl.figure(figsize=(9, 1.5))\n",
    "    img = pl.imshow(a, cmap=mpl.cm.jet, alpha=0.6)\n",
    "    pl.gca().set_visible(False)\n",
    "    cbar = fig.colorbar(img, ticks=np.arange(0.0, 1.01, 0.2), orientation='vertical', cax =cbar_ax)\n",
    "    cbar.ax.set_yticklabels((np.arange(0.0, 1.01, 0.2) * density_hourly_max).astype('int')) \n",
    "    cbar.ax.set_ylabel('pickup/hr/mi$^2$', **axis_font)\n",
    "\n",
    "    fig.savefig('density_{0}.jpg'.format(hour), dpi=50, bbox_inches='tight')\n",
    "    plt.close()"
   ]
  },
  {
   "cell_type": "code",
   "execution_count": 7,
   "metadata": {
    "collapsed": true
   },
   "outputs": [],
   "source": [
    "# Generate gif file\n",
    "images = []\n",
    "for hour in range(24):\n",
    "    images.append(imageio.imread('density_{0}.jpg'.format(hour)))\n",
    "imageio.mimsave('./figures/density_movie_ct.gif', images, fps=1)\n",
    "#imageio.mimsave('./figures/density_movie_ct_yellow.gif', images, fps=1)\n",
    "#imageio.mimsave('./figures/density_movie_ct_green.gif', images, fps=1)"
   ]
  }
 ],
 "metadata": {
  "kernelspec": {
   "display_name": "Python 3",
   "language": "python",
   "name": "python3"
  },
  "language_info": {
   "codemirror_mode": {
    "name": "ipython",
    "version": 3
   },
   "file_extension": ".py",
   "mimetype": "text/x-python",
   "name": "python",
   "nbconvert_exporter": "python",
   "pygments_lexer": "ipython3",
   "version": "3.5.1"
  }
 },
 "nbformat": 4,
 "nbformat_minor": 0
}
