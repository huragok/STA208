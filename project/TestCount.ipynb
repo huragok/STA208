{
 "cells": [
  {
   "cell_type": "code",
   "execution_count": 18,
   "metadata": {
    "collapsed": false
   },
   "outputs": [],
   "source": [
    "import numpy as np\n",
    "from scipy.linalg import eigh\n",
    "from scipy.spatial.distance import pdist, squareform\n",
    "from sklearn.cluster import KMeans\n",
    "\n",
    "import psycopg2\n",
    "from shapely.wkt import loads as wkt_loads\n",
    "from mpl_toolkits.basemap import Basemap\n",
    "\n",
    "import matplotlib as mpl\n",
    "import matplotlib.pyplot as plt\n",
    "from matplotlib.collections import LineCollection\n",
    "\n",
    "%matplotlib qt\n",
    "axis_font = {'size':'16'}\n",
    "mpl.rcParams['xtick.labelsize'] = 16\n",
    "mpl.rcParams['ytick.labelsize'] = 16"
   ]
  },
  {
   "cell_type": "code",
   "execution_count": 10,
   "metadata": {
    "collapsed": true
   },
   "outputs": [],
   "source": [
    "conn = psycopg2.connect(\"dbname='nyc_taxi' user='postgres' host='localhost' password='organon'\")\n",
    "cur = conn.cursor()"
   ]
  },
  {
   "cell_type": "code",
   "execution_count": null,
   "metadata": {
    "collapsed": true
   },
   "outputs": [],
   "source": [
    "# Try plotting a heat map over census tract based on the total number of pickups from the region1"
   ]
  },
  {
   "cell_type": "code",
   "execution_count": 9,
   "metadata": {
    "collapsed": true
   },
   "outputs": [],
   "source": [
    "cur.close()"
   ]
  },
  {
   "cell_type": "code",
   "execution_count": 3,
   "metadata": {
    "collapsed": true
   },
   "outputs": [],
   "source": [
    "# Cluster NTAs and visualize based on the distribution of the dropoff location of all trips from there\n",
    "cur.execute(\"\"\"SELECT COUNT(*) FROM nta;\"\"\")\n",
    "n_nta = cur.fetchall()[0][0] # Total number of census tracts\n",
    "# The (i,j)-th element can be viewed as the probability for a trip from i to j, \n",
    "count_trip_from = np.zeros((n_nta, n_nta), dtype=\"int32\")"
   ]
  },
  {
   "cell_type": "code",
   "execution_count": 11,
   "metadata": {
    "collapsed": false
   },
   "outputs": [],
   "source": [
    "for gid_nta in range(1, n_nta+1):\n",
    "    cur.execute(\"\"\"SELECT dropoff_gid, COUNT(trip_id)\n",
    "    FROM trip_nta\n",
    "    WHERE pickup_gid={0}\n",
    "    GROUP BY dropoff_gid\n",
    "    ORDER BY dropoff_gid;\"\"\".format(gid_nta))\n",
    "    result = np.array(cur.fetchall(), dtype=\"int32\")\n",
    "    \n",
    "    if result.size != 0:\n",
    "        count_trip_from[gid_nta-1, result[:, 0]-1] = result[:, 1]"
   ]
  },
  {
   "cell_type": "code",
   "execution_count": 56,
   "metadata": {
    "collapsed": false
   },
   "outputs": [],
   "source": [
    "count_threshold = 200 # Minimum number of trips from one census tract\n",
    "gid_nta_nz = np.where(np.sum(count_trip_from, axis=1) > count_threshold)[0] + 1 # The indices (gid-1) of the census tracts to be clustered\n",
    "count_trip_from = count_trip_from[gid_nta_nz-1, :]\n",
    "W = squareform(pdist(count_trip_from, 'correlation')) # Pairwise distance between census tracts"
   ]
  },
  {
   "cell_type": "code",
   "execution_count": 63,
   "metadata": {
    "collapsed": false
   },
   "outputs": [
    {
     "data": {
      "text/plain": [
       "<matplotlib.text.Text at 0x7fa50edc2198>"
      ]
     },
     "execution_count": 63,
     "metadata": {},
     "output_type": "execute_result"
    }
   ],
   "source": [
    "# Spectral clustering\n",
    "K = 7\n",
    "L = np.diag(sum(W)) - W\n",
    "_, V_spec = eigh(L)\n",
    "v = V_spec[:, 1:2] # The reduced dimension data, simply the second smallest eigen vector of L\n",
    "label = KMeans(n_clusters=K, random_state=8).fit_predict(v)\n",
    "\n",
    "fig, ax = plt.subplots(figsize=(7, 6))\n",
    "\n",
    "c = ['b', 'g', 'r', 'purple', 'yellow', 'magenta', 'cyan', 'black', 'white']\n",
    "for k in range(K):\n",
    "    ax.hist(v[label==k, 0], 20, facecolor=c[k], alpha=1, label='cluster {0}'.format(k))\n",
    "ax.legend(loc=1, fontsize=16)\n",
    "ax.set_xlabel('$v$', **axis_font)\n",
    "ax.set_ylabel('count', **axis_font)\n",
    "#fig.savefig('spec_hist.pdf', dpi=10)"
   ]
  },
  {
   "cell_type": "code",
   "execution_count": 58,
   "metadata": {
    "collapsed": false
   },
   "outputs": [],
   "source": [
    "nta_color = ['grey',] * n_nta # The color of each census tract\n",
    "for i, gid in enumerate(gid_nta_nz):\n",
    "    nta_color[gid-1] = c[label[i]]"
   ]
  },
  {
   "cell_type": "code",
   "execution_count": 64,
   "metadata": {
    "collapsed": false
   },
   "outputs": [
    {
     "data": {
      "text/plain": [
       "array([0, 4, 0, 0, 0, 0, 0, 0, 0, 0, 0, 0, 0, 0, 0, 0, 0, 0, 0, 0, 0, 0, 0,\n",
       "       6, 6, 0, 0, 0, 0, 0, 5, 0, 0, 0, 0, 0, 0, 0, 0, 0, 0, 0, 0, 6, 0, 0,\n",
       "       0, 0, 0, 0, 0, 0, 0, 0, 0, 0, 0, 0, 0, 0, 0, 0, 0, 0, 0, 0, 0, 0, 6,\n",
       "       0, 0, 0, 0, 0, 6, 6, 0, 0, 0, 0, 0, 0, 0, 2, 1, 6, 0, 0, 0, 0, 0, 3,\n",
       "       2, 0, 3, 0, 0, 0, 0, 0, 0, 0, 0, 0, 0, 5, 0, 0, 0], dtype=int32)"
      ]
     },
     "execution_count": 64,
     "metadata": {},
     "output_type": "execute_result"
    }
   ],
   "source": [
    "label"
   ]
  },
  {
   "cell_type": "code",
   "execution_count": 59,
   "metadata": {
    "collapsed": false
   },
   "outputs": [],
   "source": [
    "tol = 1e-4 # Tolerance on fetching the census tract boundary\n",
    "cur.execute(\"\"\"SELECT gid, ST_AsText(ST_SIMPLIFY(geom, {0})) FROM nta;\"\"\".format(tol))\n",
    "vals = cur.fetchall()"
   ]
  },
  {
   "cell_type": "code",
   "execution_count": 60,
   "metadata": {
    "collapsed": false
   },
   "outputs": [],
   "source": [
    "def create_vectors_multipolygon(m, multipolygon):\n",
    "    'Create the vectors for MultiPolygons'\n",
    "    vectors = []\n",
    "    for polygon in multipolygon:\n",
    "        seg = []\n",
    "        for coord in list(polygon.exterior.coords):\n",
    "            seg.append(m(coord[0], coord[1]))\n",
    "            vectors.append(np.asarray(seg))\n",
    "    return vectors\n"
   ]
  },
  {
   "cell_type": "code",
   "execution_count": 61,
   "metadata": {
    "collapsed": false
   },
   "outputs": [
    {
     "data": {
      "text/plain": [
       "<matplotlib.collections.LineCollection at 0x7fa514253c50>"
      ]
     },
     "execution_count": 61,
     "metadata": {},
     "output_type": "execute_result"
    }
   ],
   "source": [
    "west, south, east, north = -74.15, 40.50, -73.65, 40.95\n",
    "m = Basemap(llcrnrlon=west, llcrnrlat=south, urcrnrlon=east, urcrnrlat=north,\n",
    "             resolution='f', projection='merc', lat_0=(south+north)/2, lon_0=(west+east)/2)\n",
    "fig = plt.figure(figsize=(30,30))\n",
    "ax = fig.add_subplot(111)\n",
    "\n",
    "m.drawmapboundary(fill_color='aqua')\n",
    "m.fillcontinents(color='grey',lake_color='aqua',zorder=0)\n",
    "m.drawcoastlines()\n",
    "m.drawrivers()"
   ]
  },
  {
   "cell_type": "code",
   "execution_count": 62,
   "metadata": {
    "collapsed": false
   },
   "outputs": [],
   "source": [
    "for val in vals:\n",
    "    vectors = create_vectors_multipolygon(m, wkt_loads(val[1]))\n",
    "    lines = LineCollection(vectors, antialiaseds=(1, ))\n",
    "    lines.set_facecolors(nta_color[val[0]-1])\n",
    "    lines.set_edgecolors('black')\n",
    "    lines.set_linewidth(0.5)\n",
    "    ax.add_collection(lines)\n"
   ]
  }
 ],
 "metadata": {
  "kernelspec": {
   "display_name": "Python 3",
   "language": "python",
   "name": "python3"
  },
  "language_info": {
   "codemirror_mode": {
    "name": "ipython",
    "version": 3
   },
   "file_extension": ".py",
   "mimetype": "text/x-python",
   "name": "python",
   "nbconvert_exporter": "python",
   "pygments_lexer": "ipython3",
   "version": "3.5.1"
  }
 },
 "nbformat": 4,
 "nbformat_minor": 0
}
