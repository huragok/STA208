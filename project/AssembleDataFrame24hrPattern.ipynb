{
 "cells": [
  {
   "cell_type": "code",
   "execution_count": 1,
   "metadata": {
    "collapsed": true
   },
   "outputs": [],
   "source": [
    "import numpy as np\n",
    "import pandas as pd\n",
    "import pandas.io.sql as pdsql\n",
    "import pickle\n",
    "\n",
    "import psycopg2\n",
    "\n",
    "from numpy.random import uniform\n",
    "from scipy.linalg import eigh\n",
    "from scipy.spatial.distance import pdist, squareform\n",
    "from sklearn.cluster import KMeans\n",
    "\n",
    "from shapely.wkt import loads as wkt_loads\n",
    "from mpl_toolkits.basemap import Basemap\n",
    "\n",
    "import matplotlib as mpl\n",
    "import matplotlib.pyplot as plt\n",
    "from matplotlib.patches import Polygon\n",
    "from matplotlib.collections import LineCollection, PatchCollection\n",
    "\n",
    "%matplotlib qt\n",
    "axis_font = {'size':'16'}\n",
    "mpl.rcParams['xtick.labelsize'] = 16\n",
    "mpl.rcParams['ytick.labelsize'] = 16"
   ]
  },
  {
   "cell_type": "code",
   "execution_count": 2,
   "metadata": {
    "collapsed": false
   },
   "outputs": [],
   "source": [
    "# Read the pickup_count table and the day_info table\n",
    "conn = psycopg2.connect(\"dbname='nyc_taxi' user='postgres' host='localhost' password='organon'\")\n",
    "cdf = pdsql.read_sql(\"SELECT * FROM count_by_hour_ct\", conn, params=None)\n",
    "#cdf = pdsql.read_sql(\"SELECT * FROM count_by_hour_ct_green\", conn, params=None)\n",
    "ct = pdsql.read_sql(\"SELECT gid, boro_name, shape_area, boro_ct201 FROM ct\", conn, coerce_float=True, params=None)\n",
    "conn.close()"
   ]
  },
  {
   "cell_type": "code",
   "execution_count": 3,
   "metadata": {
    "collapsed": false
   },
   "outputs": [],
   "source": [
    "# Remove the NaN entries\n",
    "idx_nan_pickup = np.where(pd.isnull(cdf['pickup_gid']).values)[0].tolist()\n",
    "idx_nan_dropoff = np.where(pd.isnull(cdf['dropoff_gid']).values)[0].tolist()\n",
    "\n",
    "row = 0\n",
    "for row in range(len(cdf.index)):\n",
    "    if row in idx_nan_pickup:\n",
    "        cdf.set_value(row, 'pickup_gid', cdf['dropoff_gid'][row])\n",
    "        cdf.set_value(row, 'pickup_hour', cdf['dropoff_hour'][row])\n",
    "        cdf.set_value(row, 'count_mean_pickup', 0.0)   \n",
    "        \n",
    "    if row in idx_nan_dropoff:\n",
    "        cdf.set_value(row, 'dropoff_gid', cdf['pickup_gid'][row])\n",
    "        cdf.set_value(row, 'dropoff_hour', cdf['pickup_hour'][row])\n",
    "        cdf.set_value(row, 'count_mean_dropoff', 0.0)   \n",
    "        \n",
    "cdf['pickup_gid'] = cdf['pickup_gid'].astype(int)\n",
    "cdf['pickup_hour'] = cdf['pickup_hour'].astype(int)\n",
    "cdf['dropoff_gid'] = cdf['dropoff_gid'].astype(int)\n",
    "cdf['dropoff_hour'] = cdf['dropoff_hour'].astype(int)   "
   ]
  },
  {
   "cell_type": "code",
   "execution_count": 4,
   "metadata": {
    "collapsed": false
   },
   "outputs": [],
   "source": [
    "# Construct the numpy array where each row corresponds to the average number of pickups in the 24 hours of a \n",
    "# day + number of dropoffs in the 24 hours of a averaged over 1 year\n",
    "X = np.zeros((2166, 48), dtype='float64')\n",
    "\n",
    "for row in range(len(cdf.index)):\n",
    "    X[(cdf.pickup_gid[row]-1)][cdf.pickup_hour[row]] = cdf.count_mean_pickup[row]\n",
    "    X[(cdf.pickup_gid[row]-1)][cdf.pickup_hour[row]+24] = cdf.count_mean_dropoff[row]"
   ]
  },
  {
   "cell_type": "code",
   "execution_count": 6,
   "metadata": {
    "collapsed": false
   },
   "outputs": [
    {
     "data": {
      "text/plain": [
       "<matplotlib.text.Text at 0x7f34015cd5f8>"
      ]
     },
     "execution_count": 6,
     "metadata": {},
     "output_type": "execute_result"
    }
   ],
   "source": [
    "# Plot the distribution of the average total pickup per day\n",
    "count_daily = np.sum(X, axis=1)\n",
    "fig, ax = plt.subplots(figsize=(7, 6))\n",
    "\n",
    "ax.hist(count_daily, 200, alpha=1)\n",
    "ax.set_xlabel('Daily average pickup+dropoff', **axis_font)\n",
    "ax.set_ylabel('count', **axis_font)"
   ]
  },
  {
   "cell_type": "code",
   "execution_count": 7,
   "metadata": {
    "collapsed": false
   },
   "outputs": [],
   "source": [
    "# Study only the census tracts where there are enough pickup and dropoffs per day\n",
    "min_daily_count = 5000\n",
    "#min_daily_count = 250\n",
    "gids_popular = np.where(np.sum(X, axis=1) > min_daily_count)[0] + 1\n",
    "\n",
    "X_popular = X[gids_popular-1, :]"
   ]
  },
  {
   "cell_type": "code",
   "execution_count": 8,
   "metadata": {
    "collapsed": false
   },
   "outputs": [
    {
     "data": {
      "text/plain": [
       "(64,)"
      ]
     },
     "execution_count": 8,
     "metadata": {},
     "output_type": "execute_result"
    }
   ],
   "source": [
    "gids_popular.shape"
   ]
  },
  {
   "cell_type": "code",
   "execution_count": 10,
   "metadata": {
    "collapsed": false
   },
   "outputs": [],
   "source": [
    "Y = np.dot(np.diag(1 / np.sum(X_popular, axis=1)), X_popular)"
   ]
  },
  {
   "cell_type": "code",
   "execution_count": 11,
   "metadata": {
    "collapsed": false
   },
   "outputs": [],
   "source": [
    "# Spectral clustering to cluster the hourly pickup-dropoff patterns for all 2166 census tracks\n",
    "f = 150 # The factor used to set epsilon according to the median of the square pairwise Euclidean distance\n",
    "# f=160\n",
    "\n",
    "distance = pdist(Y, 'euclidean');\n",
    "#distance = pdist(X_popular[:, 0:24]-X_popular[:, 24:48], 'euclidean');\n",
    "epsilon = np.median(distance ** 2) / f;\n",
    "W = np.exp(-squareform(distance) ** 2 / epsilon)"
   ]
  },
  {
   "cell_type": "code",
   "execution_count": 12,
   "metadata": {
    "collapsed": false
   },
   "outputs": [
    {
     "data": {
      "text/plain": [
       "<matplotlib.text.Text at 0x7f3400e25f98>"
      ]
     },
     "execution_count": 12,
     "metadata": {},
     "output_type": "execute_result"
    }
   ],
   "source": [
    "# Spectral clustering\n",
    "K = 2\n",
    "L = np.diag(sum(W)) - W\n",
    "_, V_spec = eigh(L)\n",
    "v = V_spec[:, 1:2] # The reduced dimension data, simply the second smallest eigen vector of L\n",
    "label = KMeans(n_clusters=K, random_state=8).fit_predict(v)\n",
    "#label = KMeans(n_clusters=K, random_state=8).fit_predict(Y)\n",
    "fig, ax = plt.subplots(figsize=(7, 6))\n",
    "\n",
    "c = ['b', 'g', 'r', 'purple', 'yellow', 'magenta', 'cyan', 'black', 'white']\n",
    "for k in range(K):\n",
    "    ax.hist(v[label==k, 0], 20, facecolor=c[k], alpha=1, label='cluster {0}'.format(k))\n",
    "ax.legend(loc=1, fontsize=16)\n",
    "ax.set_xlabel('$v$', **axis_font)\n",
    "ax.set_ylabel('count', **axis_font)"
   ]
  },
  {
   "cell_type": "code",
   "execution_count": 13,
   "metadata": {
    "collapsed": false
   },
   "outputs": [
    {
     "data": {
      "text/plain": [
       "[58, 6]"
      ]
     },
     "execution_count": 13,
     "metadata": {},
     "output_type": "execute_result"
    }
   ],
   "source": [
    "[np.sum(label==k) for k in range(K)]"
   ]
  },
  {
   "cell_type": "code",
   "execution_count": 14,
   "metadata": {
    "collapsed": false
   },
   "outputs": [],
   "source": [
    "n_ct_popular = gids_popular.shape[0]\n",
    "ct_color = {gids_popular[i]: c[label[i]] for i in range(n_ct_popular)} # The color of each census tract"
   ]
  },
  {
   "cell_type": "markdown",
   "metadata": {
    "collapsed": true
   },
   "source": [
    "from scipy.cluster.hierarchy import dendrogram, linkage\n",
    "from scipy.cluster.hierarchy import fcluster\n",
    "\n",
    "Z = linkage(X, 'ward')\n",
    "label=fcluster(Z, 8, depth=10)"
   ]
  },
  {
   "cell_type": "code",
   "execution_count": 15,
   "metadata": {
    "collapsed": false
   },
   "outputs": [],
   "source": [
    "# The function to evaluate the gap statistic for k-means with different number of clusters\n",
    "def get_gapstat(X, k_range=np.arange(1, 9), n_sample=20, random_state=17):\n",
    "    n, p = X.shape\n",
    "    \n",
    "    X_ref = np.empty((n, p, n_sample), dtype='float64')\n",
    "    for col in range(p):\n",
    "        X_ref[:, col, :] = uniform(low=X[:, col].min(), high=X[:, col].max(), size=(n, n_sample))\n",
    "    \n",
    "    gapstat = np.empty((n_sample, len(k_range)), dtype='float64')\n",
    "    for i_k, k in enumerate(k_range):\n",
    "        km = KMeans(n_clusters=k, random_state=random_state)\n",
    "        \n",
    "        # The inertia of the actual data\n",
    "        km.fit(X)\n",
    "        w = km.inertia_\n",
    "        \n",
    "        # The inertia of the reference data\n",
    "        w_ref = np.empty(n_sample, dtype='float64')\n",
    "        for i_sample in range(n_sample):\n",
    "            km.fit(X_ref[:, :, i_sample])\n",
    "            w_ref[i_sample] = km.inertia_\n",
    "        \n",
    "        gapstat[:, i_k] = np.log(w_ref) - np.log(w)\n",
    "        \n",
    "    return gapstat\n",
    "\n",
    "k_range = np.arange(1, 20)\n",
    "n_sample = 20\n",
    "\n",
    "gap_spec = get_gapstat(v, k_range=k_range, n_sample=n_sample)"
   ]
  },
  {
   "cell_type": "code",
   "execution_count": 16,
   "metadata": {
    "collapsed": false
   },
   "outputs": [
    {
     "data": {
      "text/plain": [
       "<matplotlib.text.Text at 0x7f340006ea90>"
      ]
     },
     "execution_count": 16,
     "metadata": {},
     "output_type": "execute_result"
    }
   ],
   "source": [
    "# Gap statistics\n",
    "fig, ax = plt.subplots(figsize=(7, 6))\n",
    "ax.errorbar(k_range, np.mean(gap_spec, axis=0), yerr=np.sqrt(1+1/n_sample)*np.std(gap_spec, axis=0))\n",
    "ax.grid(True)\n",
    "ax.set_xlabel('$k$', **axis_font)\n",
    "ax.set_ylabel('Gap', **axis_font)"
   ]
  },
  {
   "cell_type": "code",
   "execution_count": 17,
   "metadata": {
    "collapsed": false
   },
   "outputs": [
    {
     "data": {
      "text/plain": [
       "<matplotlib.collections.PatchCollection at 0x7f33f86939b0>"
      ]
     },
     "execution_count": 17,
     "metadata": {},
     "output_type": "execute_result"
    }
   ],
   "source": [
    "west, south, east, north = -74.15, 40.50, -73.65, 40.95\n",
    "ct2gid = {ct.boro_ct201[i]: ct.gid[i] for i in range(len(ct.gid))}\n",
    "\n",
    "m = Basemap(llcrnrlon=west, llcrnrlat=south, urcrnrlon=east, urcrnrlat=north,\n",
    "                 resolution='i', projection='merc', lat_0=(south+north)/2, lon_0=(west+east)/2)\n",
    "fig = plt.figure(figsize=(30,30))\n",
    "ax = fig.add_subplot(111)\n",
    "\n",
    "m.readshapefile('./datasets/ct_2010/geo_export_670644cc-4c81-49e9-9d6d-fb574f649fff', 'nyc', linewidth=1, zorder=1)\n",
    "\n",
    "patches = []\n",
    "\n",
    "for info, shape in zip(m.nyc_info, m.nyc):\n",
    "    gid = ct2gid[info['boro_ct201']]\n",
    "    if gid in gids_popular:\n",
    "        patches.append(Polygon(np.array(shape), True, facecolor=ct_color[gid]))\n",
    "        p = PatchCollection(patches, match_original=True, alpha=0.9, linewidths=1., zorder=2)\n",
    "\n",
    "ax.add_collection(p)"
   ]
  },
  {
   "cell_type": "code",
   "execution_count": 18,
   "metadata": {
    "collapsed": false
   },
   "outputs": [
    {
     "data": {
      "text/plain": [
       "<matplotlib.text.Text at 0x7f33f9838160>"
      ]
     },
     "execution_count": 18,
     "metadata": {},
     "output_type": "execute_result"
    }
   ],
   "source": [
    "fig, ax = plt.subplots(figsize=(7, 6))\n",
    "t = np.arange(24, dtype='int32')\n",
    "for k in range(K):\n",
    "    Y_subset = Y[label==k, :]\n",
    "    pickup_mean, dropoff_mean = np.mean(Y_subset, axis=0)[0:24], np.mean(Y_subset, axis=0)[24:48]\n",
    "    pickup_std, dropoff_std = np.std(Y_subset, axis=0)[0:24], np.std(Y_subset, axis=0)[24:48]\n",
    "    \n",
    "    ax.plot(t, pickup_mean, color=c[k], linewidth=2, label=\"pickup, $k={0}$\".format(k))\n",
    "    ax.plot(t, -dropoff_mean, color=c[k], linewidth=2, linestyle='--', label=\"dropoff, $k={0}$\".format(k))\n",
    "    \n",
    "    ax.fill_between(t, pickup_mean-pickup_std, pickup_mean+pickup_std, facecolor=c[k], alpha=0.3)\n",
    "    ax.fill_between(t, -dropoff_mean-pickup_std, -dropoff_mean+dropoff_std, facecolor=c[k], alpha=0.3)\n",
    "    \n",
    "ax.legend(prop={'size':16}, loc=4)\n",
    "ax.grid()\n",
    "ax.set_xlabel('hour', **axis_font)\n",
    "ax.set_ylabel('pickup-dropoff dstr.', **axis_font)"
   ]
  }
 ],
 "metadata": {
  "kernelspec": {
   "display_name": "Python 3",
   "language": "python",
   "name": "python3"
  },
  "language_info": {
   "codemirror_mode": {
    "name": "ipython",
    "version": 3
   },
   "file_extension": ".py",
   "mimetype": "text/x-python",
   "name": "python",
   "nbconvert_exporter": "python",
   "pygments_lexer": "ipython3",
   "version": "3.5.1"
  }
 },
 "nbformat": 4,
 "nbformat_minor": 0
}
