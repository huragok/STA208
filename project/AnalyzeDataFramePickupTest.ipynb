{
 "cells": [
  {
   "cell_type": "code",
   "execution_count": null,
   "metadata": {
    "collapsed": true
   },
   "outputs": [],
   "source": [
    "import numpy as np\n",
    "import pandas as pd\n",
    "import pickle\n",
    "import pandas.io.sql as pdsql\n",
    "import psycopg2\n",
    "import timeit\n",
    "import sys\n",
    "from IPython.display import clear_output\n",
    "\n",
    "from mpl_toolkits.basemap import Basemap\n",
    "\n",
    "import matplotlib as mpl\n",
    "import pylab as pl\n",
    "import matplotlib.pyplot as plt\n",
    "from matplotlib.patches import Polygon\n",
    "from matplotlib.collections import LineCollection, PatchCollection\n",
    "\n",
    "import imageio\n",
    "\n",
    "#%matplotlib inline\n",
    "axis_font = {'size':'30'}\n",
    "mpl.rcParams['xtick.labelsize'] = 30\n",
    "mpl.rcParams['ytick.labelsize'] = 30"
   ]
  },
  {
   "cell_type": "code",
   "execution_count": null,
   "metadata": {
    "collapsed": false
   },
   "outputs": [],
   "source": [
    "df = pickle.load(open(\"./intermediate_files/dataframes_visualize_nta/data_raw.p\", \"rb\"))\n",
    "\n",
    "conn = psycopg2.connect(\"dbname='nyc_taxi' user='postgres' host='localhost' password='organon'\")\n",
    "nta = pdsql.read_sql(\"SELECT gid, shape_area, ntacode, ntaname FROM nta\", conn, coerce_float=True, params=None)\n",
    "day_info = pdsql.read_sql(\"SELECT doy, holiday FROM day_info\", conn, coerce_float=True, params=None)\n",
    "conn.close()"
   ]
  },
  {
   "cell_type": "code",
   "execution_count": null,
   "metadata": {
    "collapsed": true
   },
   "outputs": [],
   "source": [
    "ntacode2gid = {nta.ntacode[i]: nta.gid[i] for i in range(len(nta.gid))}"
   ]
  },
  {
   "cell_type": "code",
   "execution_count": null,
   "metadata": {
    "collapsed": false
   },
   "outputs": [],
   "source": [
    "doys_test = [20, 100, 313] # The DOYs to test\n",
    "gids_test = [26, 27, 37, 52, 53, 54, 59, 71, 72, 88, 89, 90, 103, 114, 115, 118, 128,\n",
    "            129, 135, 136, 153, 154, 181, 182, 183, 184] # The NTAs to test\n",
    "\n",
    "# The hourly pickup per square mile for each NTA averaged over 365 days of 2014\n",
    "sqft2sqmi=3.58701e-8\n",
    "density_hourly = np.empty((len(gids_test), 24, len(doys_test)), dtype='float64') # The true densities\n",
    "for i, gid in enumerate(gids_test):\n",
    "    for j, doy in enumerate(doys_test):\n",
    "        for h in range(24):\n",
    "            density_hourly[i, h, j] = df['count'][(df.pickup_hour==h) & (df.pickup_gid==gid) & (df.pickup_doy==doy)]\\\n",
    "                                    / nta.shape_area[nta.gid==gid].values[0] / sqft2sqmi"
   ]
  },
  {
   "cell_type": "code",
   "execution_count": null,
   "metadata": {
    "collapsed": false
   },
   "outputs": [],
   "source": [
    "counts_pred = {doy: np.loadtxt('./intermediate_files/dataframes_test/data_excerpt_{0}.txt'.format(doy)) for doy in doys_test}\n",
    "density_hourly_pred = np.empty((len(gids_test), 24, len(doys_test)), dtype='float64') # The predicted densities\n",
    "for i, gid in enumerate(gids_test):\n",
    "    for j, doy in enumerate(doys_test):\n",
    "        for h in range(24):\n",
    "            density_hourly_pred[i, h, j] = counts_pred[doy][(gid-1)*24+h]\\\n",
    "                                    / nta.shape_area[nta.gid==gid].values[0] / sqft2sqmi"
   ]
  },
  {
   "cell_type": "code",
   "execution_count": null,
   "metadata": {
    "collapsed": false
   },
   "outputs": [],
   "source": [
    "# Plot the 24-hour density map\n",
    "west, south, east, north = -74.15, 40.50, -73.65, 40.95\n",
    "gid2idx = {gid: i for i, gid in enumerate(gids_test)}\n",
    "\n",
    "for j, doy in enumerate(doys_test):\n",
    "    density_hourly_test = density_hourly[:, :, j]\n",
    "    density_hourly_pred_test = density_hourly_pred[:, :, j]\n",
    "    density_hourly_max = max([np.max(density_hourly_test), np.max(density_hourly_pred_test)])\n",
    "    \n",
    "    for hour in range(24):\n",
    "        m = Basemap(llcrnrlon=west, llcrnrlat=south, urcrnrlon=east, urcrnrlat=north,\n",
    "                 resolution='i', projection='merc', lat_0=(south+north)/2, lon_0=(west+east)/2)\n",
    "        fig = plt.figure(figsize=(30,30))\n",
    "        ax = fig.add_subplot(111)\n",
    "        ax.set_title('h={0}'.format(hour), fontsize=35)\n",
    "\n",
    "        m.readshapefile('./datasets/nta_2010/geo_export_d2bec86b-a3e8-4047-b785-24286f7718ab', 'nyc', linewidth=1, zorder=1)\n",
    "\n",
    "        patches = []\n",
    "        cm = mpl.cm.jet\n",
    "        for info, shape in zip(m.nyc_info, m.nyc):\n",
    "            gid = ntacode2gid[info['ntacode']]\n",
    "            if gid in gids_test:\n",
    "                patches.append(Polygon(np.array(shape), True,\n",
    "                                       facecolor=cm(density_hourly_test[gid2idx[gid], hour] / density_hourly_max)))\n",
    "\n",
    "        p = PatchCollection(patches, match_original=True, alpha=0.6, linewidths=1., zorder=2)\n",
    "\n",
    "        ax.add_collection(p)\n",
    "\n",
    "        fig.subplots_adjust(right=0.8)\n",
    "        cbar_ax = fig.add_axes([0.85, 0.12, 0.02, 0.78])\n",
    "        a = np.array([[0.0,1.0]])\n",
    "\n",
    "        pl.figure(figsize=(9, 1.5))\n",
    "        img = pl.imshow(a, cmap=mpl.cm.jet, alpha=0.6)\n",
    "        pl.gca().set_visible(False)\n",
    "        cbar = fig.colorbar(img, ticks=np.arange(0.0, 1.01, 0.2), orientation='vertical', cax =cbar_ax)\n",
    "        cbar.ax.set_yticklabels((np.arange(0.0, 1.01, 0.2) * density_hourly_max).astype('int')) \n",
    "        cbar.ax.set_ylabel('pickup/hr/mi$^2$', **axis_font)\n",
    "\n",
    "        fig.savefig('density_true_{0}_{1}.jpg'.format(hour, doy), dpi=50, bbox_inches='tight')\n",
    "        plt.close()\n",
    "        \n",
    "    for hour in range(24):\n",
    "        m = Basemap(llcrnrlon=west, llcrnrlat=south, urcrnrlon=east, urcrnrlat=north,\n",
    "                 resolution='i', projection='merc', lat_0=(south+north)/2, lon_0=(west+east)/2)\n",
    "        fig = plt.figure(figsize=(30,30))\n",
    "        ax = fig.add_subplot(111)\n",
    "        ax.set_title('h={0}'.format(hour), fontsize=35)\n",
    "\n",
    "        m.readshapefile('./datasets/nta_2010/geo_export_d2bec86b-a3e8-4047-b785-24286f7718ab', 'nyc', linewidth=1, zorder=1)\n",
    "\n",
    "        patches = []\n",
    "        cm = mpl.cm.jet\n",
    "        for info, shape in zip(m.nyc_info, m.nyc):\n",
    "            gid = ntacode2gid[info['ntacode']]\n",
    "            if gid in gids_test:\n",
    "                patches.append(Polygon(np.array(shape), True,\n",
    "                                       facecolor=cm(density_hourly_pred_test[gid2idx[gid], hour] / density_hourly_max)))\n",
    "\n",
    "        p = PatchCollection(patches, match_original=True, alpha=0.6, linewidths=1., zorder=2)\n",
    "\n",
    "        ax.add_collection(p)\n",
    "\n",
    "        fig.subplots_adjust(right=0.8)\n",
    "        cbar_ax = fig.add_axes([0.85, 0.12, 0.02, 0.78])\n",
    "        a = np.array([[0.0,1.0]])\n",
    "\n",
    "        pl.figure(figsize=(9, 1.5))\n",
    "        img = pl.imshow(a, cmap=mpl.cm.jet, alpha=0.6)\n",
    "        pl.gca().set_visible(False)\n",
    "        cbar = fig.colorbar(img, ticks=np.arange(0.0, 1.01, 0.2), orientation='vertical', cax =cbar_ax)\n",
    "        cbar.ax.set_yticklabels((np.arange(0.0, 1.01, 0.2) * density_hourly_max).astype('int')) \n",
    "        cbar.ax.set_ylabel('pickup/hr/mi$^2$', **axis_font)\n",
    "\n",
    "        fig.savefig('density_pred_{0}_{1}.jpg'.format(hour, doy), dpi=50, bbox_inches='tight')\n",
    "        plt.close()"
   ]
  },
  {
   "cell_type": "code",
   "execution_count": null,
   "metadata": {
    "collapsed": false
   },
   "outputs": [],
   "source": [
    "# Generate gif file\n",
    "for j, doy in enumerate(doys_test):\n",
    "    images = []\n",
    "    images_pred = []\n",
    "    for hour in range(24):\n",
    "        images.append(imageio.imread('density_true_{0}_{1}.jpg'.format(hour, doy)))\n",
    "        imageio.mimsave('figures/density_by_nta_pred/density_true_doy={0}.gif'.format(doy), images, fps=1)\n",
    "        \n",
    "        images_pred.append(imageio.imread('density_pred_{0}_{1}.jpg'.format(hour, doy)))\n",
    "        imageio.mimsave('figures/density_by_nta_pred/density_pred_doy={0}.gif'.format(doy), images_pred, fps=1)"
   ]
  }
 ],
 "metadata": {
  "kernelspec": {
   "display_name": "Python 3",
   "language": "python",
   "name": "python3"
  },
  "language_info": {
   "codemirror_mode": {
    "name": "ipython",
    "version": 3
   },
   "file_extension": ".py",
   "mimetype": "text/x-python",
   "name": "python",
   "nbconvert_exporter": "python",
   "pygments_lexer": "ipython3",
   "version": "3.5.1"
  }
 },
 "nbformat": 4,
 "nbformat_minor": 0
}
