{
 "cells": [
  {
   "cell_type": "code",
   "execution_count": 1,
   "metadata": {
    "collapsed": true
   },
   "outputs": [],
   "source": [
    "import numpy as np\n",
    "import matplotlib.pyplot as plt\n",
    "import matplotlib as mpl\n",
    "%matplotlib qt\n",
    "\n",
    "x = np.linspace(-2, 2, num=50)\n",
    "kappa = 1 # The parameter for the sigmoid loss"
   ]
  },
  {
   "cell_type": "code",
   "execution_count": 2,
   "metadata": {
    "collapsed": false
   },
   "outputs": [
    {
     "data": {
      "text/plain": [
       "<matplotlib.text.Text at 0x7f19ec0eb2e8>"
      ]
     },
     "execution_count": 2,
     "metadata": {},
     "output_type": "execute_result"
    }
   ],
   "source": [
    "axis_font = {'size':'20'}\n",
    "mpl.rcParams['xtick.labelsize'] = 16\n",
    "mpl.rcParams['ytick.labelsize'] = 16\n",
    "\n",
    "plt.plot(x, np.exp(-x), 'b-', linewidth=2, label=\"exp\")\n",
    "plt.plot(x, (1-x).clip(0) ** 2, 'r--', linewidth=2, label=\"trunc. quad.\")\n",
    "plt.plot(x, (1-x).clip(0), 'm--', linewidth=2, label=\"hinge\")\n",
    "plt.plot(x, 1 - np.tanh(kappa * x), 'k-.', linewidth=2, label=\"sigmoid\")\n",
    "plt.legend(prop={'size':16})\n",
    "plt.grid()\n",
    "plt.xlabel('x', **axis_font)\n",
    "plt.ylabel('$\\phi(x)$', **axis_font)"
   ]
  }
 ],
 "metadata": {
  "kernelspec": {
   "display_name": "Python 3",
   "language": "python",
   "name": "python3"
  },
  "language_info": {
   "codemirror_mode": {
    "name": "ipython",
    "version": 3
   },
   "file_extension": ".py",
   "mimetype": "text/x-python",
   "name": "python",
   "nbconvert_exporter": "python",
   "pygments_lexer": "ipython3",
   "version": "3.5.1"
  }
 },
 "nbformat": 4,
 "nbformat_minor": 0
}
