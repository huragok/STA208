{
 "cells": [
  {
   "cell_type": "code",
   "execution_count": 3,
   "metadata": {
    "collapsed": false
   },
   "outputs": [],
   "source": [
    "import numpy as np\n",
    "from scipy.linalg import toeplitz\n",
    "\n",
    "p = 12\n",
    "n = 200\n",
    "rho = 0.5\n",
    "\n",
    "X = np.random.multivariate_normal(np.zeros(p, dtype=\"float64\"),\\\n",
    "                                  toeplitz(rho ** np.arange(p)),\\\n",
    "                                  n)\n",
    "beta = np.random.normal(0, 1, p)\n",
    "y = np.dot(X, beta) + np.random.normal(0, 1, n)"
   ]
  },
  {
   "cell_type": "code",
   "execution_count": 4,
   "metadata": {
    "collapsed": false
   },
   "outputs": [
    {
     "name": "stdout",
     "output_type": "stream",
     "text": [
      "[-1.39177375 -0.45398115 -0.43534827  0.11153467 -0.63183783 -1.48206641\n",
      "  0.78334917 -0.07417643  1.3568376   1.07122674  1.72470078  0.09138231]\n",
      "[ -1.35030878e+00  -4.91065606e-01  -3.68082961e-01   1.42129743e-01\n",
      "  -5.34203389e-01  -1.49558455e+00   6.63558627e-01   6.68265836e-04\n",
      "   1.38412703e+00   1.14845778e+00   1.56490478e+00   2.91481947e-01]\n"
     ]
    }
   ],
   "source": [
    "\n",
    "alpha = 0.5\n",
    "C = np.dot(X.T, X) + alpha * np.eye(p)\n",
    "beta_est = np.linalg.solve(C, np.dot(X.T, y))\n",
    "\n",
    "print(beta_est)\n",
    "print(beta)"
   ]
  },
  {
   "cell_type": "code",
   "execution_count": 5,
   "metadata": {
    "collapsed": false,
    "scrolled": true
   },
   "outputs": [],
   "source": [
    "p = 12\n",
    "n = 200\n",
    "rho = 0.5\n",
    "\n",
    "def get_error_cond_X_beta_montecarlo(X, beta, alpha, nrun):\n",
    "    \n",
    "    n, p = X.shape\n",
    "    y_mean = np.dot(X, beta)\n",
    "    noise = np.random.normal(0, 1, (nrun, n))\n",
    "\n",
    "    C = np.dot(X.T, X) + alpha * np.eye(p)\n",
    "    v = np.dot(X.T, y_mean)\n",
    "    beta_est = np.empty((nrun, p), dtype=\"float64\")\n",
    "    for irun in range(nrun):\n",
    "        beta_est[irun] = np.linalg.solve(C, v + np.dot(X.T, noise[irun]))\n",
    "                                                             \n",
    "    bias = np.linalg.norm(beta_est.mean(axis=0) - beta) ** 2\n",
    "    var = (np.linalg.norm(beta_est - beta_est.mean(axis=0)) ** 2) / nrun\n",
    "    mse = bias + var\n",
    "\n",
    "    return np.array((bias, var, mse))\n",
    "\n",
    "def get_error_cond_X_montecarlo(X, alpha, n_beta=100, nrun=1000):\n",
    "    \n",
    "    n, p = X.shape\n",
    "    beta = np.random.normal(0, 1, (n_beta, p))\n",
    "    error = np.empty([n_beta, 3], dtype=\"float64\")\n",
    "    \n",
    "    for i_beta in range(n_beta):\n",
    "        error[i_beta] = get_error_cond_X_beta_montecarlo(X, beta[i_beta], alpha, nrun)\n",
    "        \n",
    "    return error.mean(axis=0)\n",
    "\n",
    "def get_error_cond_X(X, alpha):\n",
    "    n, p = X.shape\n",
    "    \n",
    "    XX = np.dot(X.T, X)\n",
    "    C = XX + alpha * np.eye(p)\n",
    "    bias = np.linalg.norm(np.linalg.solve(C, XX) - np.eye(p)) ** 2\n",
    "    var = np.linalg.norm(np.linalg.solve(C, X.T)) ** 2\n",
    "    mse = bias + var\n",
    "\n",
    "    return np.array((bias, var, mse))\n",
    "\n",
    "def get_error(alpha, p = 12, n = 200, rho = 0.5, n_X = 1000, n_montecarlo = None):\n",
    "    \n",
    "    n_alpha = len(alpha)\n",
    "    error = np.empty([n_alpha, n_X, 3], dtype=\"float64\")\n",
    "    X = np.random.multivariate_normal(np.zeros(p, dtype=\"float64\"),\\\n",
    "                                  toeplitz(rho ** np.arange(p)),\\\n",
    "                                  (n_X, n))\n",
    "    if n_montecarlo is None:\n",
    "        for i_alpha in range(n_alpha):\n",
    "            for i_X in range(n_X):\n",
    "                error[i_alpha, i_X] = get_error_cond_X(X[i_X], alpha[i_alpha])\n",
    "    else:\n",
    "        for i_alpha in range(n_alpha):\n",
    "            for i_X in range(n_X):\n",
    "                n_beta, nrun = n_montecarlo\n",
    "                error[i_alpha, i_X] = get_error_cond_X_montecarlo(X[i_X], alpha[i_alpha],\\\n",
    "                                                                  n_beta, nrun)\n",
    "        \n",
    "    return error.mean(axis=1)"
   ]
  },
  {
   "cell_type": "code",
   "execution_count": 6,
   "metadata": {
    "collapsed": false
   },
   "outputs": [],
   "source": [
    "alpha = np.linspace(0.0, 2.0, 11)\n",
    "errors = get_error(alpha)\n",
    "\n",
    "import matplotlib.pyplot as plt\n",
    "%matplotlib qt\n",
    "\n",
    "axis_font = {'size':'20'}\n",
    "\n",
    "fig, axs = plt.subplots(3, 1, sharex=True)\n",
    "\n",
    "axs[0].plot(alpha, errors[:, 0], \"+-\", lw=2, markersize=10, markeredgewidth=2)\n",
    "axs[0].set_ylabel(\"Bias\", **axis_font)\n",
    "axs[0].grid(True)\n",
    "axs[1].plot(alpha, errors[:, 1], \"+-\", lw=2, markersize=10, markeredgewidth=2)\n",
    "axs[1].set_ylabel(\"Var\", **axis_font)\n",
    "axs[1].grid(True)\n",
    "axs[2].plot(alpha, errors[:, 2], \"+-\", lw=2, markersize=10, markeredgewidth=2)\n",
    "axs[2].set_ylabel(\"MSE\", **axis_font)\n",
    "axs[2].set_xlabel(\"$\\lambda$\", **axis_font)\n",
    "axs[2].grid(True)"
   ]
  }
 ],
 "metadata": {
  "kernelspec": {
   "display_name": "Python 3",
   "language": "python",
   "name": "python3"
  },
  "language_info": {
   "codemirror_mode": {
    "name": "ipython",
    "version": 3
   },
   "file_extension": ".py",
   "mimetype": "text/x-python",
   "name": "python",
   "nbconvert_exporter": "python",
   "pygments_lexer": "ipython3",
   "version": "3.5.1"
  }
 },
 "nbformat": 4,
 "nbformat_minor": 0
}
