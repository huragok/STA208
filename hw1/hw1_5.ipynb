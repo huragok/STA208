{
 "cells": [
  {
   "cell_type": "code",
   "execution_count": 1,
   "metadata": {
    "collapsed": false
   },
   "outputs": [],
   "source": [
    "import pandas as pd\n",
    "import numpy as np\n",
    "import random\n",
    "import math\n",
    "\n",
    "from sklearn import preprocessing\n",
    "from sklearn import linear_model\n",
    "from sklearn import neighbors\n",
    "\n",
    "df = pd.read_csv('airfoil_self_noise.dat', header=None, delimiter=r\"\\s+\")"
   ]
  },
  {
   "cell_type": "code",
   "execution_count": 2,
   "metadata": {
    "collapsed": false
   },
   "outputs": [],
   "source": [
    "frac = 0.2 # The portion of data to set aside\n",
    "\n",
    "n, p = df.shape\n",
    "\n",
    "row_test= random.sample(range(n), math.floor(frac * n))\n",
    "row_train = list(set(range(n)) - set(row_test))\n",
    "\n",
    "X = preprocessing.normalize(df.values[:, :5], axis=0)\n",
    "y = df.values[:, 5]\n",
    "X_train, X_test = X[row_train], X[row_test]\n",
    "y_train, y_test = y[row_train], y[row_test]"
   ]
  },
  {
   "cell_type": "code",
   "execution_count": 3,
   "metadata": {
    "collapsed": false
   },
   "outputs": [
    {
     "data": {
      "text/plain": [
       "23.019854822456388"
      ]
     },
     "execution_count": 3,
     "metadata": {},
     "output_type": "execute_result"
    }
   ],
   "source": [
    "regr_lin = linear_model.LinearRegression()\n",
    "regr_lin.fit(X_train, y_train)\n",
    "\n",
    "error_lin = ((regr_lin.predict(X_test) - y_test) ** 2).mean()\n",
    "\n",
    "error_lin"
   ]
  },
  {
   "cell_type": "code",
   "execution_count": 4,
   "metadata": {
    "collapsed": false
   },
   "outputs": [
    {
     "data": {
      "text/plain": [
       "array([  7.38201846,   4.87730786,   5.79717721,   6.82806412,\n",
       "         7.47128062,   8.29356822,   8.56738896,   8.61574721,\n",
       "         8.79053942,   9.02319889,   9.52727474,   9.87724606,\n",
       "        10.13052051,  10.61791904,  10.97849758,  11.31216465,\n",
       "        11.7739808 ,  12.18672542,  12.24575304,  12.5101948 ,\n",
       "        12.47674699,  12.66038275,  12.89347818,  13.08861046,\n",
       "        13.3622567 ,  13.43983634,  13.67087334,  13.83028573,\n",
       "        13.95561273,  14.18175032,  14.53323671,  14.7676174 ,\n",
       "        14.6857516 ,  14.55885528,  14.59007247,  14.61042498,\n",
       "        14.79983476,  14.78535414,  14.77865713])"
      ]
     },
     "execution_count": 4,
     "metadata": {},
     "output_type": "execute_result"
    }
   ],
   "source": [
    "k_range = np.arange(1, 40, 1, dtype=\"int32\")\n",
    "n_k = len(k_range)\n",
    "error_knn = np.empty(n_k, dtype=\"float64\")\n",
    "\n",
    "regr_knn = neighbors.KNeighborsRegressor()\n",
    "for i_k, k in enumerate(k_range): \n",
    "    regr_knn.set_params(n_neighbors=k)\n",
    "    regr_knn.fit(X_train, y_train)\n",
    "\n",
    "    error_knn[i_k] = ((regr_knn.predict(X_test) - y_test) ** 2).mean()\n",
    "\n",
    "error_knn"
   ]
  },
  {
   "cell_type": "code",
   "execution_count": 5,
   "metadata": {
    "collapsed": false
   },
   "outputs": [
    {
     "data": {
      "text/plain": [
       "array([  7.38201846,   7.38021671,   7.10707938,   7.17372619,\n",
       "         7.44747095,   8.2109912 ,   8.16803063,   8.90486894,\n",
       "         9.2721564 ,   9.47775774,   9.5710692 ,   9.46088355,\n",
       "        10.16971126,  10.9037823 ,  10.98890284,  11.26948464,\n",
       "        11.03685425,  11.12877276,  11.1131264 ,  11.67512153,\n",
       "         9.37754541,   9.9067364 ,   9.897622  ,  10.39238509,\n",
       "        10.57590169,  10.70760606,  10.64263252,  11.01663705,\n",
       "        11.06067867,  11.22463515,  11.30687898,  11.33201813,\n",
       "        11.91867624,  12.37164944,  12.78906378,  13.03249362,\n",
       "        13.28677367,  13.46305178,  13.86506495,  13.74446207,\n",
       "        13.89484004,  14.11600054,  14.55730582,  14.9685549 ,\n",
       "        15.21220033,  15.39540318,  15.70801289,  16.18328754,\n",
       "        16.41244789,  16.66709295])"
      ]
     },
     "execution_count": 5,
     "metadata": {},
     "output_type": "execute_result"
    }
   ],
   "source": [
    "class KernelSmootherBoxcar:\n",
    "    def __init__(self, bandwidth = 1.0):\n",
    "        self.bandwidth = bandwidth\n",
    "        \n",
    "    def set_params(self, **kargs):\n",
    "        for key in kargs.keys():\n",
    "            self.key = kargs[key]\n",
    "            \n",
    "    def fit(self, X, y):\n",
    "        self.X = X\n",
    "        self.y = y\n",
    "        \n",
    "    def predict(self, X_new):\n",
    "\n",
    "        m = len(X_new)\n",
    "        y_new = np.empty(m, dtype=\"float64\")\n",
    "        for i, x_new in enumerate(X_new):  \n",
    "            distances = np.linalg.norm(x_new - self.X, axis=1)\n",
    "            neighbors = (distances < bandwidth)\n",
    "      \n",
    "            if (sum(neighbors) == 0): # There is no neighbor within the bandwidth, use the nearest neighbor\n",
    "                y_new[i] = self.y[np.argmin(distances)]\n",
    "            else: # Average among the neighbors\n",
    "                y_new[i] = self.y[neighbors].mean(axis=0)\n",
    "        \n",
    "        return y_new\n",
    "\n",
    "bandwidth_range = np.arange(0.0, 0.02, 0.0004)\n",
    "n_bandwidth = len(bandwidth_range)\n",
    "error_ksb = np.empty(n_bandwidth, dtype=\"float64\")\n",
    "\n",
    "regr_ksb = KernelSmootherBoxcar()\n",
    "for i_bandwidth, bandwidth in enumerate(bandwidth_range): \n",
    "    regr_ksb.set_params(bandwidth=bandwidth)\n",
    "    regr_ksb.fit(X_train, y_train)\n",
    "    \n",
    "    error_ksb[i_bandwidth] = ((regr_ksb.predict(X_test) - y_test) ** 2).mean()\n",
    "\n",
    "error_ksb"
   ]
  },
  {
   "cell_type": "code",
   "execution_count": 12,
   "metadata": {
    "collapsed": false
   },
   "outputs": [],
   "source": [
    "import matplotlib.pyplot as plt\n",
    "%matplotlib qt\n",
    "\n",
    "axis_font = {'size':'20'}\n",
    "fig, axs = plt.subplots(2, 1)\n",
    "\n",
    "axs[0].plot(k_range, error_knn, \"+-\", lw=2, markersize=5, markeredgewidth=2, label=\"KNN\")\n",
    "axs[0].plot(k_range, error_lin * np.ones(n_k), 'g', lw=2, label=\"Lin. Reg.\")\n",
    "axs[0].set_xlabel(\"$k$\", **axis_font)\n",
    "axs[0].set_ylabel(\"MSE\", **axis_font)\n",
    "axs[0].set_ylim([0, 25])\n",
    "axs[0].grid(True)\n",
    "axs[0].legend(loc=0, fontsize=12)\n",
    "\n",
    "axs[1].plot(bandwidth_range, error_ksb, \"r+-\", lw=2, markersize=5, markeredgewidth=2, label=\"KSB\")\n",
    "axs[1].plot(bandwidth_range, error_lin * np.ones(n_bandwidth), 'g', lw=2, label=\"Lin. Reg.\")\n",
    "axs[1].set_xlabel(\"Bandwidth\", **axis_font)\n",
    "axs[1].set_ylabel(\"MSE\", **axis_font)\n",
    "axs[1].set_ylim([0, 25])\n",
    "axs[1].grid(True)\n",
    "axs[1].legend(loc=0, fontsize=12)\n",
    "\n",
    "fig.tight_layout()"
   ]
  }
 ],
 "metadata": {
  "kernelspec": {
   "display_name": "Python 3",
   "language": "python",
   "name": "python3"
  },
  "language_info": {
   "codemirror_mode": {
    "name": "ipython",
    "version": 3
   },
   "file_extension": ".py",
   "mimetype": "text/x-python",
   "name": "python",
   "nbconvert_exporter": "python",
   "pygments_lexer": "ipython3",
   "version": "3.5.1"
  }
 },
 "nbformat": 4,
 "nbformat_minor": 0
}
