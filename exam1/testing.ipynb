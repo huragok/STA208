{
 "cells": [
  {
   "cell_type": "code",
   "execution_count": 1,
   "metadata": {
    "collapsed": true
   },
   "outputs": [],
   "source": [
    "import pickle\n",
    "\n",
    "classifier = pickle.load(open(\"classifier.p\", \"rb\"))\n",
    "\n",
    "def predict(X, classifier=classifier):\n",
    "    X_normalized =  (X - classifier.mu) / classifier.sigma\n",
    "    return classifier.predict(X_normalized)"
   ]
  },
  {
   "cell_type": "code",
   "execution_count": 4,
   "metadata": {
    "collapsed": false
   },
   "outputs": [
    {
     "data": {
      "text/plain": [
       "0.032049206863062479"
      ]
     },
     "execution_count": 4,
     "metadata": {},
     "output_type": "execute_result"
    }
   ],
   "source": [
    "import pandas as pd\n",
    "import numpy as np\n",
    "\n",
    "df_exam = pd.read_csv('exam.dat', header=None, sep='[1-4]:', engine='python')\n",
    "X = df_exam.values[:, 1 :]\n",
    "g = df_exam.values[:, 0]\n",
    "\n",
    "sum(np.abs(predict(X) - g)) / len(g)"
   ]
  }
 ],
 "metadata": {
  "kernelspec": {
   "display_name": "Python 3",
   "language": "python",
   "name": "python3"
  },
  "language_info": {
   "codemirror_mode": {
    "name": "ipython",
    "version": 3
   },
   "file_extension": ".py",
   "mimetype": "text/x-python",
   "name": "python",
   "nbconvert_exporter": "python",
   "pygments_lexer": "ipython3",
   "version": "3.5.1"
  }
 },
 "nbformat": 4,
 "nbformat_minor": 0
}
