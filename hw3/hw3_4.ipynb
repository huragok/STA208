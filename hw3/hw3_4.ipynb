{
 "cells": [
  {
   "cell_type": "code",
   "execution_count": null,
   "metadata": {
    "collapsed": true
   },
   "outputs": [],
   "source": [
    "import pandas as pd\n",
    "import numpy as np\n",
    "import timeit\n",
    "import sys\n",
    "\n",
    "from sklearn import linear_model\n",
    "from sklearn.svm import SVC\n",
    "from sklearn.cross_validation import KFold\n",
    "from sklearn.grid_search import GridSearchCV\n",
    "from sklearn.feature_extraction.text import TfidfTransformer\n",
    "from sklearn.metrics import precision_recall_curve\n",
    "from sklearn.metrics import roc_curve\n",
    "\n",
    "# Import the training file\n",
    "df = pd.read_csv('train_mat.csv') \n",
    "#n,d = df.shape\n",
    "X_train_raw = df.values[:, 1 :]\n",
    "y_train = df.values[:, 1]\n",
    "\n",
    "# Evaluate the tf-idf transformation on the counts\n",
    "transformer = TfidfTransformer()\n",
    "X_train_tfidf = transformer.fit_transform(X_train)\n",
    "\n",
    "# Import the testing file\n",
    "df = pd.read_csv('test_mat.csv') # Import the datafile\n",
    "X_test_raw = df.values[:, 1 :]\n",
    "y_test = df.values[:, 1]"
   ]
  },
  {
   "cell_type": "code",
   "execution_count": null,
   "metadata": {
    "collapsed": false
   },
   "outputs": [],
   "source": [
    "cv = KFold(n, n_folds=5)\n",
    "C_range = np.logspace(-4, 4, 9) # Range of Parameter C, inverse of regularization strength"
   ]
  },
  {
   "cell_type": "code",
   "execution_count": null,
   "metadata": {
    "collapsed": false
   },
   "outputs": [],
   "source": [
    "# The linear svm classifier on the raw counts\n",
    "classifier_svc = SVC(kernel='linear')\n",
    "\n",
    "# The logistic classifier\n",
    "classifier_logreg = linear_model.LogisticRegression()"
   ]
  },
  {
   "cell_type": "code",
   "execution_count": null,
   "metadata": {
    "collapsed": false
   },
   "outputs": [],
   "source": [
    "X_train_tfidf"
   ]
  },
  {
   "cell_type": "code",
   "execution_count": null,
   "metadata": {
    "collapsed": false
   },
   "outputs": [],
   "source": [
    "case = 0\n",
    "\n",
    "precision = dict()\n",
    "recall = dict()\n",
    "fpr = dict()\n",
    "tpr = dict()\n",
    "\n",
    "for classifier in [classifier_svc, classifier_logreg]:\n",
    "    for X_train, X_test in [(X_train_raw, X_test_raw), (X_train_tidif, X_test_tidif)]:\n",
    "        start_time = timeit.default_timer()\n",
    "\n",
    "        print(\"Tuning case {0}...\".format(case))\n",
    "\n",
    "        grid = GridSearchCV(classifier, param_grid=dict(C=C_range), cv=cv, verbose=0, n_jobs=2)\n",
    "        grid.fit(X_train, y_train)\n",
    "\n",
    "        print(\" - The best parameters are {0} with a score of {1}\".format(grid.best_params_, grid.best_score_))\n",
    "        print(\" - The score on the test set is {0}\".format(grid.score(X_test, y_test)))\n",
    "        \n",
    "        y_score = gid.best_estimator_.decision_function(X_test)\n",
    "        precision[case], recall[case], _ = precision_recall_curve(y_test, y_score)\n",
    "        fpr[case], tpr[case], _ = roc_curve(y_test, y_score)\n",
    "        \n",
    "        print(\" - Elapsed time is {0}\".format(timeit.default_timer() - start_time))\n",
    "        sys.stdout.flush()\n",
    "        \n",
    "        case = case + 1\n",
    "        "
   ]
  },
  {
   "cell_type": "code",
   "execution_count": null,
   "metadata": {
    "collapsed": true
   },
   "outputs": [],
   "source": [
    "import matplotlib.pyplot as plt\n",
    "%matplotlib inline"
   ]
  }
 ],
 "metadata": {
  "kernelspec": {
   "display_name": "Python 3",
   "language": "python",
   "name": "python3"
  },
  "language_info": {
   "codemirror_mode": {
    "name": "ipython",
    "version": 3
   },
   "file_extension": ".py",
   "mimetype": "text/x-python",
   "name": "python",
   "nbconvert_exporter": "python",
   "pygments_lexer": "ipython3",
   "version": "3.5.1"
  }
 },
 "nbformat": 4,
 "nbformat_minor": 0
}
